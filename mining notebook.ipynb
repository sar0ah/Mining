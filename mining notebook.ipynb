{
 "cells": [
  {
   "cell_type": "markdown",
   "id": "50a14aa9",
   "metadata": {},
   "source": [
    "# 1-Problem:"
   ]
  },
  {
   "cell_type": "markdown",
   "id": "6b5eccdf",
   "metadata": {},
   "source": [
    "in our project we chose the dataset of the restaurants in Zomato which is an Indian multinational restaurant aggregator and food delivery company. This dataset contains information about various restaurants listed on the platform, including their location, cuisine type, ratings, and other essential attributes.we will study and analyze the restaurants data that will help us identify the preferred cost range and the most likable restaurant type and cuisines type that leads into high ratings to help people who are interested in putting their restaurants on the platform by predicting the ratings of new restaurants on the platform."
   ]
  },
  {
   "cell_type": "markdown",
   "id": "a46e51a5",
   "metadata": {},
   "source": [
    "# 2-Data Mining Task: "
   ]
  },
  {
   "cell_type": "markdown",
   "id": "45189fca",
   "metadata": {},
   "source": [
    "We want to solve this problem by classification data mining task, to predict the highest ratings based on restaurant type, average cost of two people, and the cuisine’s type, by choosing rating as class label."
   ]
  },
  {
   "cell_type": "markdown",
   "id": "db18f814",
   "metadata": {},
   "source": [
    "# 3- Data:"
   ]
  },
  {
   "cell_type": "markdown",
   "id": "9b7297be",
   "metadata": {},
   "source": [
    "We choose this data from Kaggle website(https://www.kaggle.com/datasets/abhijitdahatonde/zomato-restaurants-dataset) This dataset provides us with information about different type of restaurant and there ratings in food application called Zomato, it consists the following attributes:  "
   ]
  },
  {
   "cell_type": "markdown",
   "id": "1ec0688b",
   "metadata": {},
   "source": [
    "Number of attributes:12 "
   ]
  },
  {
   "cell_type": "markdown",
   "id": "52c1b241",
   "metadata": {},
   "source": [
    "Number of objects:7104"
   ]
  },
  {
   "cell_type": "markdown",
   "id": "1b7b861c",
   "metadata": {},
   "source": [
    "|Attribute|Description |Type|Possible values|\n",
    "|---|---|----|---|\n",
    "|#|Index|Numeric-Ratio|[0-7014]|\n",
    "|Restauran name|Name of restaurant that application offered by the application|Nominal|#FeelTheROLL #L-81 Cafe #refuel'@ Biryani Central'@ The Bbq|\n",
    "|Restaurant type|restaurant type includes the type of the restaurant and if it has delivery or takeaway|Nominal|Quick Bites ,Casual Dining, Cafe, Delivery Takeaway|\n",
    "|Rate|Express your opinion or assessme| Numeric- Interval| [1.8-4.9]|\n",
    "|Number of ratings| refers the count of how many times a restaurant or product has been rated or reviewed by customer or user| Numeric- Interval| [1-16,300]|\n",
    "|Avg cost|Total cost of order | Numeric- Interval|[40-6000]|\n",
    "|Online order| This means that customers have the option to place their food orders through the restaurant’s website or a dedicated online ordering platform| Binary (Asymmetric)| 1(Yes),0(No)|\n",
    "|Teble booking|This refers to the process of reserving a table at a restaurant in advance| Binary (Asymmetric)| 1(Yes),0(No)|\n",
    "|Cuisines type|This represents the style or category of food and dishes that a restaurant specializes in or offers| Nominal|North Indian ,Chinese ,North Indian,Fast Food\n",
    "\n",
    "\n",
    "        "
   ]
  },
  {
   "cell_type": "markdown",
   "id": "d33e9e56",
   "metadata": {},
   "source": []
  },
  {
   "cell_type": "code",
   "execution_count": null,
   "id": "63d7a37e",
   "metadata": {},
   "outputs": [],
   "source": []
  }
 ],
 "metadata": {
  "kernelspec": {
   "display_name": "R",
   "language": "R",
   "name": "ir"
  },
  "language_info": {
   "codemirror_mode": "r",
   "file_extension": ".r",
   "mimetype": "text/x-r-source",
   "name": "R",
   "pygments_lexer": "r",
   "version": "3.6.1"
  }
 },
 "nbformat": 4,
 "nbformat_minor": 5
}
